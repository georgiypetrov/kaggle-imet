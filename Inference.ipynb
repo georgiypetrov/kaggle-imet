{
 "cells": [
  {
   "cell_type": "code",
   "execution_count": 1,
   "metadata": {},
   "outputs": [],
   "source": [
    "from pathlib import Path\n",
    "import os\n",
    "\n",
    "model = 'senet154'\n",
    "model_path = Path('zoo')"
   ]
  },
  {
   "cell_type": "code",
   "execution_count": 6,
   "metadata": {},
   "outputs": [],
   "source": [
    "for fold in range(4, 5):\n",
    "    os.system(f'python -m imet.main predict_test zoo/model_{model}_fold_{fold} --model {model} --tta 6 --input-size 320')"
   ]
  },
  {
   "cell_type": "code",
   "execution_count": 10,
   "metadata": {},
   "outputs": [
    {
     "name": "stdout",
     "output_type": "stream",
     "text": [
      "zoo/model_senet154_fold_0/test.h5\n",
      "zoo/model_se_resnext50_32x4d_fold_0/test.h5\n",
      "zoo/model_se_resnext101_32x4d_fold_0/test.h5\n",
      "zoo/model_se_resnet50_fold_0/test.h5\n",
      "zoo/model_densenet201_fold_0/test.h5\n",
      "zoo/model_senet154_fold_1/test.h5\n",
      "zoo/model_se_resnext50_32x4d_fold_1/test.h5\n",
      "zoo/model_se_resnext101_32x4d_fold_1/test.h5\n",
      "zoo/model_se_resnet50_fold_1/test.h5\n",
      "zoo/model_densenet201_fold_1/test.h5\n",
      "zoo/model_senet154_fold_2/test.h5\n",
      "zoo/model_se_resnext50_32x4d_fold_2/test.h5\n",
      "zoo/model_se_resnext101_32x4d_fold_2/test.h5\n",
      "zoo/model_se_resnet50_fold_2/test.h5\n",
      "zoo/model_densenet201_fold_2/test.h5\n",
      "zoo/model_senet154_fold_3/test.h5\n",
      "zoo/model_se_resnext50_32x4d_fold_3/test.h5\n",
      "zoo/model_se_resnext101_32x4d_fold_3/test.h5\n",
      "zoo/model_se_resnet50_fold_3/test.h5\n",
      "zoo/model_densenet201_fold_3/test.h5\n",
      "zoo/model_senet154_fold_4/test.h5\n",
      "zoo/model_se_resnext50_32x4d_fold_4/test.h5\n",
      "zoo/model_se_resnext101_32x4d_fold_4/test.h5\n",
      "zoo/model_se_resnet50_fold_4/test.h5\n",
      "zoo/model_densenet201_fold_4/test.h5\n"
     ]
    }
   ],
   "source": [
    "!python -m imet.ensemble senet154 se_resnext50_32x4d se_resnext101_32x4d se_resnet50 densenet201"
   ]
  },
  {
   "cell_type": "code",
   "execution_count": 2,
   "metadata": {},
   "outputs": [
    {
     "name": "stdout",
     "output_type": "stream",
     "text": [
      "^C\r\n",
      "Traceback (most recent call last):\r\n",
      "  File \"/home/allerria/anaconda3/envs/images/lib/python3.6/runpy.py\", line 193, in _run_module_as_main\r\n",
      "    \"__main__\", mod_spec)\r\n",
      "  File \"/home/allerria/anaconda3/envs/images/lib/python3.6/runpy.py\", line 85, in _run_code\r\n",
      "    exec(code, run_globals)\r\n",
      "  File \"/home/allerria/PycharmProjects/kaggle-imet/imet/main.py\", line 18, in <module>\r\n",
      "    from .models import get_model\r\n",
      "  File \"/home/allerria/PycharmProjects/kaggle-imet/imet/models.py\", line 3, in <module>\r\n",
      "    from cnn_finetune import make_model\r\n",
      "  File \"/home/allerria/PycharmProjects/kaggle-imet/cnn_finetune/__init__.py\", line 4, in <module>\r\n",
      "    from cnn_finetune.contrib.torchvision import *\r\n",
      "  File \"/home/allerria/PycharmProjects/kaggle-imet/cnn_finetune/contrib/torchvision.py\", line 2, in <module>\r\n",
      "    from pretrainedmodels.models import torchvision_models\r\n",
      "  File \"/home/allerria/PycharmProjects/kaggle-imet/pretrainedmodels/__init__.py\", line 3, in <module>\r\n",
      "    from . import models\r\n",
      "  File \"/home/allerria/PycharmProjects/kaggle-imet/pretrainedmodels/models/__init__.py\", line 8, in <module>\r\n",
      "    from .resnext import resnext101_32x4d\r\n",
      "  File \"/home/allerria/PycharmProjects/kaggle-imet/pretrainedmodels/models/resnext.py\", line 6, in <module>\r\n",
      "    from .resnext_features import resnext101_32x4d_features\r\n",
      "  File \"/home/allerria/PycharmProjects/kaggle-imet/pretrainedmodels/models/resnext_features/__init__.py\", line 2, in <module>\r\n",
      "    from .resnext101_32x4d_features import resnext101_32x4d_features\r\n",
      "  File \"/home/allerria/PycharmProjects/kaggle-imet/pretrainedmodels/models/resnext_features/resnext101_32x4d_features.py\", line 338, in <module>\r\n",
      "    nn.Conv2d(1024,512,(1, 1),(1, 1),(0, 0),1,1,bias=False),\r\n",
      "  File \"/home/allerria/anaconda3/envs/images/lib/python3.6/site-packages/torch/nn/modules/conv.py\", line 315, in __init__\r\n",
      "    False, _pair(0), groups, bias)\r\n",
      "  File \"/home/allerria/anaconda3/envs/images/lib/python3.6/site-packages/torch/nn/modules/conv.py\", line 43, in __init__\r\n",
      "    self.reset_parameters()\r\n",
      "  File \"/home/allerria/anaconda3/envs/images/lib/python3.6/site-packages/torch/nn/modules/conv.py\", line 47, in reset_parameters\r\n",
      "    init.kaiming_uniform_(self.weight, a=math.sqrt(5))\r\n",
      "  File \"/home/allerria/anaconda3/envs/images/lib/python3.6/site-packages/torch/nn/init.py\", line 293, in kaiming_uniform_\r\n",
      "    return tensor.uniform_(-bound, bound)\r\n",
      "KeyboardInterrupt\r\n"
     ]
    }
   ],
   "source": [
    "!python -m imet.main predict_test zoo/model_senet154_fold_0 --model senet154 --tta 8 --input-size 320"
   ]
  },
  {
   "cell_type": "code",
   "execution_count": null,
   "metadata": {},
   "outputs": [
    {
     "name": "stdout",
     "output_type": "stream",
     "text": [
      "Loaded model from epoch 16, step 27,300\n",
      "Predict:  92%|█████████████████████████████▌  | 860/931 [06:27<00:31,  2.27it/s]"
     ]
    }
   ],
   "source": [
    "!python -m imet.main predict_test zoo/model_se_resnext50_32x4d_fold_1 --model se_resnext50_32x4d --tta 8 --input-size 320"
   ]
  },
  {
   "cell_type": "code",
   "execution_count": 12,
   "metadata": {},
   "outputs": [
    {
     "name": "stdout",
     "output_type": "stream",
     "text": [
      "Loaded model from epoch 17, step 69,888\n",
      "Predict: 100%|██████████████████████████████| 1861/1861 [21:05<00:00,  1.58it/s]\n",
      "Saved predictions to zoo/model_se_resnext101_32x4d_fold_2/test.h5\n"
     ]
    }
   ],
   "source": [
    "!python -m imet.main predict_test zoo/model_se_resnext101_32x4d_fold_2 --model se_resnext101_32x4d --tta 16 --input-size 320"
   ]
  },
  {
   "cell_type": "code",
   "execution_count": 11,
   "metadata": {},
   "outputs": [
    {
     "name": "stdout",
     "output_type": "stream",
     "text": [
      "Loaded model from epoch 12, step 48,059\n",
      "Predict: 100%|██████████████████████████████| 1861/1861 [21:31<00:00,  1.58it/s]\n",
      "Saved predictions to zoo/model_se_resnext101_32x4d_fold_3/test.h5\n"
     ]
    }
   ],
   "source": [
    "!python -m imet.main predict_test zoo/model_se_resnext101_32x4d_fold_3 --model se_resnext101_32x4d --tta 16 --input-size 320"
   ]
  },
  {
   "cell_type": "code",
   "execution_count": 9,
   "metadata": {},
   "outputs": [
    {
     "name": "stdout",
     "output_type": "stream",
     "text": [
      "Loaded model from epoch 13, step 52,476\n",
      "Predict: 100%|██████████████████████████████| 1861/1861 [22:07<00:00,  1.55it/s]\n",
      "Saved predictions to zoo/model_se_resnext101_32x4d_fold_4/test.h5\n"
     ]
    }
   ],
   "source": [
    "!python -m imet.main predict_test zoo/model_se_resnext101_32x4d_fold_4 --model se_resnext101_32x4d --tta 16 --input-size 320"
   ]
  },
  {
   "cell_type": "code",
   "execution_count": 14,
   "metadata": {},
   "outputs": [
    {
     "name": "stdout",
     "output_type": "stream",
     "text": [
      "zoo/model_se_resnext101_32x4d_fold_0/test.h5\n",
      "zoo/model_se_resnext101_32x4d_fold_1/test.h5\n",
      "zoo/model_se_resnext101_32x4d_fold_2/test.h5\n",
      "zoo/model_se_resnext101_32x4d_fold_3/test.h5\n",
      "zoo/model_se_resnext101_32x4d_fold_4/test.h5\n"
     ]
    }
   ],
   "source": [
    "!python -m imet.make_submission zoo/model_se_resnext101_32x4d_fold_0/test.h5 zoo/model_se_resnext101_32x4d_fold_1/test.h5 zoo/model_se_resnext101_32x4d_fold_2/test.h5 zoo/model_se_resnext101_32x4d_fold_3/test.h5 zoo/model_se_resnext101_32x4d_fold_4/test.h5 submission_resnext101_5mean.csv --threshold 0.08"
   ]
  },
  {
   "cell_type": "code",
   "execution_count": null,
   "metadata": {},
   "outputs": [],
   "source": []
  }
 ],
 "metadata": {
  "kernelspec": {
   "display_name": "Python 3",
   "language": "python",
   "name": "python3"
  },
  "language_info": {
   "codemirror_mode": {
    "name": "ipython",
    "version": 3
   },
   "file_extension": ".py",
   "mimetype": "text/x-python",
   "name": "python",
   "nbconvert_exporter": "python",
   "pygments_lexer": "ipython3",
   "version": "3.6.7"
  }
 },
 "nbformat": 4,
 "nbformat_minor": 2
}

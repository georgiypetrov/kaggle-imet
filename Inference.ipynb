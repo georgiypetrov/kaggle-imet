{
 "cells": [
  {
   "cell_type": "code",
   "execution_count": 4,
   "metadata": {},
   "outputs": [],
   "source": [
    "from pathlib import Path\n",
    "import os\n",
    "\n",
    "model = 'se_resnext50_32x4d'\n",
    "model_path = Path('zoo')"
   ]
  },
  {
   "cell_type": "code",
   "execution_count": 5,
   "metadata": {},
   "outputs": [],
   "source": [
    "for fold in range(5):\n",
    "    os.system(f'python -m imet.main predict_test model_{model}_fold_{fold} --model {model} --tta 16 --input-size 320')"
   ]
  },
  {
   "cell_type": "code",
   "execution_count": 23,
   "metadata": {},
   "outputs": [
    {
     "name": "stdout",
     "output_type": "stream",
     "text": [
      "Loaded model from epoch 11, step 18,220\n",
      "Predict: 100%|██████████████████████████████| 1861/1861 [13:06<00:00,  2.49it/s]\n",
      "Saved predictions to zoo/model_se_resnext50_32x4d_fold_0/test.h5\n"
     ]
    }
   ],
   "source": [
    "!python -m imet.main predict_test zoo/model_se_resnext50_32x4d_fold_0 --model se_resnext50_32x4d --tta 16 --input-size 320"
   ]
  },
  {
   "cell_type": "code",
   "execution_count": 35,
   "metadata": {},
   "outputs": [
    {
     "name": "stdout",
     "output_type": "stream",
     "text": [
      "Loaded model from epoch 16, step 27,300\n",
      "Predict: 100%|██████████████████████████████| 1861/1861 [16:45<00:00,  2.16it/s]\n",
      "Saved predictions to zoo/model_se_resnext50_32x4d_fold_1/test.h5\n"
     ]
    }
   ],
   "source": [
    "!python -m imet.main predict_test zoo/model_se_resnext50_32x4d_fold_1 --model se_resnext50_32x4d --tta 16 --input-size 320"
   ]
  },
  {
   "cell_type": "code",
   "execution_count": 36,
   "metadata": {},
   "outputs": [
    {
     "name": "stdout",
     "output_type": "stream",
     "text": [
      "Loaded model from epoch 16, step 27,300\n",
      "Predict: 100%|██████████████████████████████| 1861/1861 [15:16<00:00,  2.12it/s]\n",
      "Saved predictions to zoo/model_se_resnext50_32x4d_fold_2/test.h5\n"
     ]
    }
   ],
   "source": [
    "!python -m imet.main predict_test zoo/model_se_resnext50_32x4d_fold_2 --model se_resnext50_32x4d --tta 16 --input-size 320"
   ]
  },
  {
   "cell_type": "code",
   "execution_count": 37,
   "metadata": {},
   "outputs": [
    {
     "name": "stdout",
     "output_type": "stream",
     "text": [
      "Loaded model from epoch 16, step 27,315\n",
      "Predict: 100%|██████████████████████████████| 1861/1861 [14:00<00:00,  2.44it/s]\n",
      "Saved predictions to zoo/model_se_resnext50_32x4d_fold_3/test.h5\n"
     ]
    }
   ],
   "source": [
    "!python -m imet.main predict_test zoo/model_se_resnext50_32x4d_fold_3 --model se_resnext50_32x4d --tta 16 --input-size 320"
   ]
  },
  {
   "cell_type": "code",
   "execution_count": 27,
   "metadata": {},
   "outputs": [
    {
     "name": "stdout",
     "output_type": "stream",
     "text": [
      "Loaded model from epoch 12, step 20,042\n",
      "Predict: 100%|██████████████████████████████| 1861/1861 [13:22<00:00,  2.58it/s]\n",
      "Saved predictions to zoo/model_se_resnext50_32x4d_fold_4/test.h5\n"
     ]
    }
   ],
   "source": [
    "!python -m imet.main predict_test zoo/model_se_resnext50_32x4d_fold_4 --model se_resnext50_32x4d --tta 16 --input-size 320"
   ]
  },
  {
   "cell_type": "code",
   "execution_count": 38,
   "metadata": {},
   "outputs": [
    {
     "name": "stdout",
     "output_type": "stream",
     "text": [
      "zoo/model_se_resnext50_32x4d_fold_0/test.h5\n",
      "zoo/model_se_resnext50_32x4d_fold_1/test.h5\n",
      "zoo/model_se_resnext50_32x4d_fold_2/test.h5\n",
      "zoo/model_se_resnext50_32x4d_fold_3/test.h5\n",
      "zoo/model_se_resnext50_32x4d_fold_4/test.h5\n"
     ]
    }
   ],
   "source": [
    "!python -m imet.make_submission zoo/model_se_resnext50_32x4d_fold_0/test.h5 zoo/model_se_resnext50_32x4d_fold_1/test.h5 zoo/model_se_resnext50_32x4d_fold_2/test.h5 zoo/model_se_resnext50_32x4d_fold_3/test.h5 zoo/model_se_resnext50_32x4d_fold_4/test.h5 submission_resnext50_5mean.csv --threshold 0.08"
   ]
  },
  {
   "cell_type": "code",
   "execution_count": null,
   "metadata": {},
   "outputs": [],
   "source": []
  }
 ],
 "metadata": {
  "kernelspec": {
   "display_name": "Python 3",
   "language": "python",
   "name": "python3"
  },
  "language_info": {
   "codemirror_mode": {
    "name": "ipython",
    "version": 3
   },
   "file_extension": ".py",
   "mimetype": "text/x-python",
   "name": "python",
   "nbconvert_exporter": "python",
   "pygments_lexer": "ipython3",
   "version": "3.6.7"
  }
 },
 "nbformat": 4,
 "nbformat_minor": 2
}

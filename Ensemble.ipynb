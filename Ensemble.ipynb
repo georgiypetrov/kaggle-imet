{
 "cells": [
  {
   "cell_type": "code",
   "execution_count": 4,
   "metadata": {},
   "outputs": [],
   "source": [
    "import pandas as pd\n",
    "import numpy as np\n",
    "from collections import defaultdict, Counter\n",
    "import os"
   ]
  },
  {
   "cell_type": "code",
   "execution_count": 1,
   "metadata": {},
   "outputs": [],
   "source": [
    "# models = ['densenet201', 'densenet121', 'resnet50', 'resnet101', 'se_resnet50']\n",
    "models = ['resnet34', 'resnet50']"
   ]
  },
  {
   "cell_type": "code",
   "execution_count": null,
   "metadata": {},
   "outputs": [],
   "source": [
    "dfs = []\n",
    "submissions = [f'model_{model}_fold_{fold}/submission.csv' for model in models for fold in range(5)]\n",
    "\n",
    "n_submissions = len(submissions)\n",
    "\n",
    "for submission in submissions:\n",
    "    dfs.append(pd.read_csv(submission))"
   ]
  },
  {
   "cell_type": "code",
   "execution_count": null,
   "metadata": {},
   "outputs": [],
   "source": [
    "dfs[0].head()"
   ]
  },
  {
   "cell_type": "code",
   "execution_count": null,
   "metadata": {},
   "outputs": [],
   "source": [
    "df = pd.DataFrame(columns=dfs[0].columns)"
   ]
  },
  {
   "cell_type": "code",
   "execution_count": null,
   "metadata": {},
   "outputs": [],
   "source": [
    "dfs[0].shape[0]"
   ]
  },
  {
   "cell_type": "code",
   "execution_count": null,
   "metadata": {},
   "outputs": [],
   "source": [
    "for i in range(dfs[0].shape[0]):\n",
    "    attributes = np.array([])\n",
    "    id = dfs[0].loc[i, 'id']\n",
    "    attributes = np.concatenate([submission.loc[i, 'attribute_ids'].split(' ') for submission in dfs])\n",
    "    unique, counts = np.unique(attributes, return_counts=True)\n",
    "    attribute_ids = ' '.join(unique[counts > n_submissions // 3])\n",
    "    data = [id, attribute_ids]\n",
    "    tmp_df = pd.DataFrame([data], columns=df.columns)\n",
    "    df = pd.concat([df, tmp_df])\n",
    "    "
   ]
  },
  {
   "cell_type": "code",
   "execution_count": null,
   "metadata": {},
   "outputs": [],
   "source": [
    "df.head()"
   ]
  },
  {
   "cell_type": "code",
   "execution_count": null,
   "metadata": {},
   "outputs": [],
   "source": [
    "df.to_csv('submission_ensemble_voting_3.csv', index=False)"
   ]
  },
  {
   "cell_type": "code",
   "execution_count": null,
   "metadata": {},
   "outputs": [],
   "source": [
    "df.shape"
   ]
  },
  {
   "cell_type": "code",
   "execution_count": null,
   "metadata": {},
   "outputs": [],
   "source": [
    "pd.read_csv('submission_ensemble_voting.csv').head()"
   ]
  },
  {
   "cell_type": "code",
   "execution_count": 2,
   "metadata": {},
   "outputs": [],
   "source": [
    "from sklearn.multioutput import MultiOutputRegressor\n",
    "import gc"
   ]
  },
  {
   "cell_type": "code",
   "execution_count": 8,
   "metadata": {},
   "outputs": [],
   "source": [
    "X = np.empty((1103, 2))\n",
    "y_true = np.empty(1103)"
   ]
  },
  {
   "cell_type": "code",
   "execution_count": 5,
   "metadata": {},
   "outputs": [],
   "source": [
    "y = pd.read_csv('folds.csv')"
   ]
  },
  {
   "cell_type": "code",
   "execution_count": null,
   "metadata": {},
   "outputs": [],
   "source": [
    "for fold in range(5):\n",
    "    X_x = []\n",
    "    for model in models:\n",
    "        model_path = os.path.join(f'model_{model}_fold_{fold}', f'val_{fold}.h5')\n",
    "        X_tmp = pd.read_hdf(model_path)\n",
    "        X_x = np.hstack((X_x, X_tmp.values))\n",
    "    X = np.vstack()\n",
    "    y_tmp = np.zeros((X_tmp.shape[0], 1103))\n",
    "    masks = [[int(c) for c in s.split(' ')] for s in y[y['fold'] == fold]['attribute_ids'].values]\n",
    "    print(y_tmp.shape[0], len(masks))\n",
    "    for i in range(y_tmp.shape[0]):\n",
    "        y_tmp[i, masks[i]] = 1\n",
    "    y_true = np.vstack((y_true, y_tmp))\n",
    "    del X_tmp, y_tmp, masks\n",
    "    gc.collect()    \n"
   ]
  },
  {
   "cell_type": "code",
   "execution_count": null,
   "metadata": {},
   "outputs": [],
   "source": [
    "from sklearn.linear_model import Ridge"
   ]
  },
  {
   "cell_type": "code",
   "execution_count": null,
   "metadata": {},
   "outputs": [],
   "source": [
    "model = MultiOutputRegressor(Ridge(alpha=6), n_jobs=1)"
   ]
  },
  {
   "cell_type": "code",
   "execution_count": null,
   "metadata": {},
   "outputs": [],
   "source": [
    "X = X[1:]\n",
    "y_true = y_true[1:]"
   ]
  },
  {
   "cell_type": "code",
   "execution_count": null,
   "metadata": {},
   "outputs": [],
   "source": [
    "model.fit(X, y_true)"
   ]
  },
  {
   "cell_type": "code",
   "execution_count": null,
   "metadata": {},
   "outputs": [],
   "source": []
  }
 ],
 "metadata": {
  "kernelspec": {
   "display_name": "Python 3",
   "language": "python",
   "name": "python3"
  },
  "language_info": {
   "codemirror_mode": {
    "name": "ipython",
    "version": 3
   },
   "file_extension": ".py",
   "mimetype": "text/x-python",
   "name": "python",
   "nbconvert_exporter": "python",
   "pygments_lexer": "ipython3",
   "version": "3.6.7"
  }
 },
 "nbformat": 4,
 "nbformat_minor": 2
}
